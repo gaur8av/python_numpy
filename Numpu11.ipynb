{
  "nbformat": 4,
  "nbformat_minor": 0,
  "metadata": {
    "colab": {
      "provenance": [],
      "authorship_tag": "ABX9TyNSdOGrpitXXVD5vbn2DARu",
      "include_colab_link": true
    },
    "kernelspec": {
      "name": "python3",
      "display_name": "Python 3"
    },
    "language_info": {
      "name": "python"
    }
  },
  "cells": [
    {
      "cell_type": "markdown",
      "metadata": {
        "id": "view-in-github",
        "colab_type": "text"
      },
      "source": [
        "<a href=\"https://colab.research.google.com/github/gaur8av/python_numpy/blob/main/Numpu11.ipynb\" target=\"_parent\"><img src=\"https://colab.research.google.com/assets/colab-badge.svg\" alt=\"Open In Colab\"/></a>"
      ]
    },
    {
      "cell_type": "markdown",
      "source": [
        "#Numpy array Functions"
      ],
      "metadata": {
        "id": "1O98zrbQYQ2F"
      }
    },
    {
      "cell_type": "code",
      "source": [
        "#serch function\n",
        "\n",
        "import numpy as np\n",
        "x=np.array([1,3,5,0,7,51,5,5,32,46,67])\n",
        "\n",
        "y=np.where(x==5)\n",
        "print(y)\n",
        "print()\n",
        "z=np.where(x%2==0)\n",
        "print(z)\n",
        "print()\n",
        "for i in x:\n",
        "  if(i==5):\n",
        "    print(i,end=\" \")\n"
      ],
      "metadata": {
        "id": "568FhgbtYW6J"
      },
      "execution_count": null,
      "outputs": []
    },
    {
      "cell_type": "markdown",
      "source": [
        "Shuffle function"
      ],
      "metadata": {
        "id": "mOfCCVuaa-c4"
      }
    },
    {
      "cell_type": "code",
      "source": [
        "import numpy as np\n",
        "var=np.array([1,2,3,4,5])\n",
        "print(var)\n",
        "print()\n",
        "np.random.shuffle(var)\n",
        "print(var)"
      ],
      "metadata": {
        "colab": {
          "base_uri": "https://localhost:8080/"
        },
        "id": "U8QcTjC9bDQd",
        "outputId": "0a8b8de7-8197-4e91-fc65-d80d51d2d195"
      },
      "execution_count": 8,
      "outputs": [
        {
          "output_type": "stream",
          "name": "stdout",
          "text": [
            "[1 2 3 4 5]\n",
            "\n",
            "[5 2 1 4 3]\n"
          ]
        }
      ]
    },
    {
      "cell_type": "markdown",
      "source": [
        "unique function"
      ],
      "metadata": {
        "id": "zBJJoZnda-Zh"
      }
    },
    {
      "cell_type": "code",
      "source": [
        "var_1=np.array([1,2,3,4,5,11,12,22,5,6,10,2,12,6,4])\n",
        "print(var_1)\n",
        "print()\n",
        "x = np.unique(var_1,return_index=True,return_counts=True)\n",
        "print(x)"
      ],
      "metadata": {
        "colab": {
          "base_uri": "https://localhost:8080/"
        },
        "id": "Sbti9flkbgOg",
        "outputId": "0a2078bc-9028-489e-f3e6-259ca6edcd10"
      },
      "execution_count": 12,
      "outputs": [
        {
          "output_type": "stream",
          "name": "stdout",
          "text": [
            "[ 1  2  3  4  5 11 12 22  5  6 10  2 12  6  4]\n",
            "\n",
            "(array([ 1,  2,  3,  4,  5,  6, 10, 11, 12, 22]), array([ 0,  1,  2,  3,  4,  9, 10,  5,  6,  7]), array([1, 2, 1, 2, 2, 2, 1, 1, 2, 1]))\n"
          ]
        }
      ]
    },
    {
      "cell_type": "markdown",
      "source": [
        "Resize function"
      ],
      "metadata": {
        "id": "JJjfMpw0ckMw"
      }
    },
    {
      "cell_type": "code",
      "source": [
        "var2=np.array([1,2,3,4,5,6])\n",
        "print(var2)\n",
        "print()\n",
        "y=np.resize(var2,(2,3))\n",
        "print(y)"
      ],
      "metadata": {
        "colab": {
          "base_uri": "https://localhost:8080/"
        },
        "id": "SU0tRu1Bcmaf",
        "outputId": "d08075f7-9192-4445-beac-31cb8943374e"
      },
      "execution_count": 15,
      "outputs": [
        {
          "output_type": "stream",
          "name": "stdout",
          "text": [
            "[1 2 3 4 5 6]\n",
            "\n",
            "[[1 2 3]\n",
            " [4 5 6]]\n"
          ]
        }
      ]
    },
    {
      "cell_type": "markdown",
      "source": [
        "Flatten (2D array convert into 1D by order) and Ravel function"
      ],
      "metadata": {
        "id": "semDblIKdCqf"
      }
    },
    {
      "cell_type": "code",
      "source": [
        "var2=np.array([1,2,3,4,5,6])\n",
        "y=np.resize(var2,(3,2))\n",
        "print(y)\n",
        "\n",
        "print()\n",
        "print(\"Flatten array: \", y.flatten(order='F'))\n",
        "print()\n",
        "print(\"Ravel array :\", np.ravel(y))\n"
      ],
      "metadata": {
        "colab": {
          "base_uri": "https://localhost:8080/"
        },
        "id": "YDZsz7P7dMcT",
        "outputId": "6c2b278f-c2d3-4b55-e829-7ac0e930286b"
      },
      "execution_count": 24,
      "outputs": [
        {
          "output_type": "stream",
          "name": "stdout",
          "text": [
            "[[1 2]\n",
            " [3 4]\n",
            " [5 6]]\n",
            "\n",
            "Flatten array:  [1 3 5 2 4 6]\n",
            "\n",
            "Ravel array : [1 2 3 4 5 6]\n"
          ]
        }
      ]
    }
  ]
}
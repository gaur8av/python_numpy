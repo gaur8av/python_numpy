{
  "nbformat": 4,
  "nbformat_minor": 0,
  "metadata": {
    "colab": {
      "provenance": [],
      "authorship_tag": "ABX9TyPMWLuKxKqTOpFnIvexXjGM",
      "include_colab_link": true
    },
    "kernelspec": {
      "name": "python3",
      "display_name": "Python 3"
    },
    "language_info": {
      "name": "python"
    }
  },
  "cells": [
    {
      "cell_type": "markdown",
      "metadata": {
        "id": "view-in-github",
        "colab_type": "text"
      },
      "source": [
        "<a href=\"https://colab.research.google.com/github/gaur8av/python_numpy/blob/main/Numpy5.ipynb\" target=\"_parent\"><img src=\"https://colab.research.google.com/assets/colab-badge.svg\" alt=\"Open In Colab\"/></a>"
      ]
    },
    {
      "cell_type": "markdown",
      "source": [
        "Arithmetic function in Numpy"
      ],
      "metadata": {
        "id": "327YU8V6N43N"
      }
    },
    {
      "cell_type": "code",
      "source": [
        "import numpy as np\n",
        "var=np.array([1,3,-8,7,0,15,-20])\n",
        "print(\"min: \",np.min(var))\n",
        "print(\"max: \",np.max(var))"
      ],
      "metadata": {
        "colab": {
          "base_uri": "https://localhost:8080/"
        },
        "id": "saHt6IYyOFyU",
        "outputId": "ce842f5e-c663-4466-db80-706f5cdf634d"
      },
      "execution_count": 2,
      "outputs": [
        {
          "output_type": "stream",
          "name": "stdout",
          "text": [
            "min:  -20\n",
            "max:  15\n"
          ]
        }
      ]
    },
    {
      "cell_type": "code",
      "source": [
        "var=np.array([1,3,-8,7,0,15,-20])\n",
        "print(\"min no. and index: \",np.min(var),np.argmin(var))\n",
        "print(\"max no. and index: \",np.max(var),np.argmax(var))"
      ],
      "metadata": {
        "colab": {
          "base_uri": "https://localhost:8080/"
        },
        "id": "nhk4QXHDOtk4",
        "outputId": "21441770-335a-4d3b-8180-e03e7eacc2e7"
      },
      "execution_count": 5,
      "outputs": [
        {
          "output_type": "stream",
          "name": "stdout",
          "text": [
            "min no. and index:  -20 6\n",
            "max no. and index:  15 5\n"
          ]
        }
      ]
    },
    {
      "cell_type": "markdown",
      "source": [
        "in multidirection array ther is concept of axis for finding min and max n\n",
        "\n",
        "o axis=0 (column) axis=1 (row)"
      ],
      "metadata": {
        "id": "GiPe2A8UQIXg"
      }
    },
    {
      "cell_type": "code",
      "source": [
        "var1=np.array([[1,3,5],[2,7,-5],[0,-3,15]])\n",
        "print(\"min: \",np.min(var1,axis=1))\n",
        "print(\"max: \",np.max(var1,axis=1))\n",
        "print()\n",
        "print(\"min: \",np.min(var1,axis=0))\n",
        "print(\"max: \",np.max(var1,axis=0))\n"
      ],
      "metadata": {
        "colab": {
          "base_uri": "https://localhost:8080/"
        },
        "id": "841FNef9PKis",
        "outputId": "bf0ce9dd-ea79-469d-9561-55255618fb15"
      },
      "execution_count": 12,
      "outputs": [
        {
          "output_type": "stream",
          "name": "stdout",
          "text": [
            "min:  [ 1 -5 -3]\n",
            "max:  [ 5  7 15]\n",
            "\n",
            "min:  [ 0 -3 -5]\n",
            "max:  [ 2  7 15]\n"
          ]
        }
      ]
    },
    {
      "cell_type": "code",
      "source": [
        "var2=np.array([[1,3,5],[2,7,8],[0,3,15]])\n",
        "print(var2)\n",
        "print()\n",
        "print(\"sum is:\" ,np.sum(var2,axis=0))    #along column\n",
        "print(\"sum is:\" ,np.sum(var2,axis=1))    #along row"
      ],
      "metadata": {
        "colab": {
          "base_uri": "https://localhost:8080/"
        },
        "id": "j04XOAXNRH-K",
        "outputId": "4bd20d2a-be43-4492-9e23-435e87f102ff"
      },
      "execution_count": 23,
      "outputs": [
        {
          "output_type": "stream",
          "name": "stdout",
          "text": [
            "[[ 1  3  5]\n",
            " [ 2  7  8]\n",
            " [ 0  3 15]]\n",
            "\n",
            "sum is: [ 3 13 28]\n",
            "sum is: [ 9 17 18]\n"
          ]
        }
      ]
    },
    {
      "cell_type": "code",
      "source": [
        "var2=np.array([[1,3,5],[2,7,5],[0,6,15]])\n",
        "print(var2)\n",
        "print()\n",
        "p=np.sqrt(var2)\n",
        "print(p)"
      ],
      "metadata": {
        "colab": {
          "base_uri": "https://localhost:8080/"
        },
        "id": "QmvnLYhmV3FX",
        "outputId": "6c740524-d869-47b7-99f2-bf7ab2578b73"
      },
      "execution_count": 24,
      "outputs": [
        {
          "output_type": "stream",
          "name": "stdout",
          "text": [
            "[[ 1  3  5]\n",
            " [ 2  7  5]\n",
            " [ 0  6 15]]\n",
            "\n",
            "[[1.         1.73205081 2.23606798]\n",
            " [1.41421356 2.64575131 2.23606798]\n",
            " [0.         2.44948974 3.87298335]]\n"
          ]
        }
      ]
    },
    {
      "cell_type": "code",
      "source": [
        "import numpy as np\n",
        "var2=np.array([[1,3,5],[2,7,5],[0,6,15]])\n",
        "print(var2)\n",
        "print()\n",
        "p=np.sin(var2)\n",
        "q=np.cos(var2)\n",
        "print(p)\n",
        "print()\n",
        "print(q)"
      ],
      "metadata": {
        "colab": {
          "base_uri": "https://localhost:8080/"
        },
        "id": "rvoipv_h-0GO",
        "outputId": "dfb6a090-791b-4d5d-90ae-929b0f638cc5"
      },
      "execution_count": 4,
      "outputs": [
        {
          "output_type": "stream",
          "name": "stdout",
          "text": [
            "[[ 1  3  5]\n",
            " [ 2  7  5]\n",
            " [ 0  6 15]]\n",
            "\n",
            "[[ 0.84147098  0.14112001 -0.95892427]\n",
            " [ 0.90929743  0.6569866  -0.95892427]\n",
            " [ 0.         -0.2794155   0.65028784]]\n",
            "\n",
            "[[ 0.54030231 -0.9899925   0.28366219]\n",
            " [-0.41614684  0.75390225  0.28366219]\n",
            " [ 1.          0.96017029 -0.75968791]]\n"
          ]
        }
      ]
    }
  ]
}
{
  "nbformat": 4,
  "nbformat_minor": 0,
  "metadata": {
    "colab": {
      "provenance": [],
      "authorship_tag": "ABX9TyPiP3P4jPydXEcPGmiM6Rn4",
      "include_colab_link": true
    },
    "kernelspec": {
      "name": "python3",
      "display_name": "Python 3"
    },
    "language_info": {
      "name": "python"
    }
  },
  "cells": [
    {
      "cell_type": "markdown",
      "metadata": {
        "id": "view-in-github",
        "colab_type": "text"
      },
      "source": [
        "<a href=\"https://colab.research.google.com/github/gaur8av/python_numpy/blob/main/Numpy10.ipynb\" target=\"_parent\"><img src=\"https://colab.research.google.com/assets/colab-badge.svg\" alt=\"Open In Colab\"/></a>"
      ]
    },
    {
      "cell_type": "markdown",
      "source": [
        "Join and Split functions"
      ],
      "metadata": {
        "id": "32T7qMHiOdf5"
      }
    },
    {
      "cell_type": "code",
      "source": [
        "# Join( using Concatenate function)\n",
        "import numpy as np\n",
        "x = np.array([1,4,5,9])\n",
        "y = np.array([2,9,3,4])\n",
        "\n",
        "z = np.concatenate((x,y))\n",
        "print(z)"
      ],
      "metadata": {
        "colab": {
          "base_uri": "https://localhost:8080/"
        },
        "id": "VNr1FppuOhkY",
        "outputId": "5e86e130-64f5-49da-bef2-3f5bbc8e5d07"
      },
      "execution_count": null,
      "outputs": [
        {
          "output_type": "stream",
          "name": "stdout",
          "text": [
            "[1 4 5 9 2 9 3 4]\n"
          ]
        }
      ]
    },
    {
      "cell_type": "code",
      "source": [
        "var_1=np.array([[1,3,0,-2],[-4,0,-5,9]])\n",
        "var_2=np.array([[0,6,3,-8],[1,4,-6,3]])\n",
        "\n",
        "var_3=np.concatenate((var_1,var_2),axis=1)\n",
        "print(var_3)\n",
        "print()\n",
        "var_4=np.concatenate((var_1,var_2),axis=0)\n",
        "print(var_4)"
      ],
      "metadata": {
        "colab": {
          "base_uri": "https://localhost:8080/"
        },
        "id": "hHSYyl_VP5pW",
        "outputId": "b178b7d1-7dd9-4ce3-ab5d-de3bd4e56b77"
      },
      "execution_count": null,
      "outputs": [
        {
          "output_type": "stream",
          "name": "stdout",
          "text": [
            "[[ 1  3  0 -2  0  6  3 -8]\n",
            " [-4  0 -5  9  1  4 -6  3]]\n",
            "\n",
            "[[ 1  3  0 -2]\n",
            " [-4  0 -5  9]\n",
            " [ 0  6  3 -8]\n",
            " [ 1  4 -6  3]]\n"
          ]
        }
      ]
    },
    {
      "cell_type": "code",
      "source": [
        "#using stack function\n",
        "var_1 = np.array([[1,15,10,-2],[-4,0,-52,9]])\n",
        "var_2 = np.array([[0,66,30,-8],[1,46,-6,31]])\n",
        "print(var_1)\n",
        "print()\n",
        "print(var_2)\n",
        "print()\n",
        "\n",
        "var_new = np.stack((var_1,var_2),axis=0)\n",
        "print(var_new)\n",
        "print()\n",
        "var_new1 = np.stack((var_1,var_2),axis=1)\n",
        "print(var_new1)\n",
        "print()\n",
        "var_new2 = np.hstack((var_1,var_2))\n",
        "print(var_new2)\n",
        "print()\n",
        "var_new3 = np.vstack((var_1,var_2))\n",
        "print(var_new3)"
      ],
      "metadata": {
        "colab": {
          "base_uri": "https://localhost:8080/"
        },
        "id": "83wrDzv_REkM",
        "outputId": "4bd0f803-229b-446d-c26f-f0ef7480f2fb"
      },
      "execution_count": null,
      "outputs": [
        {
          "output_type": "stream",
          "name": "stdout",
          "text": [
            "[[  1  15  10  -2]\n",
            " [ -4   0 -52   9]]\n",
            "\n",
            "[[ 0 66 30 -8]\n",
            " [ 1 46 -6 31]]\n",
            "\n",
            "[[[  1  15  10  -2]\n",
            "  [ -4   0 -52   9]]\n",
            "\n",
            " [[  0  66  30  -8]\n",
            "  [  1  46  -6  31]]]\n",
            "\n",
            "[[[  1  15  10  -2]\n",
            "  [  0  66  30  -8]]\n",
            "\n",
            " [[ -4   0 -52   9]\n",
            "  [  1  46  -6  31]]]\n",
            "\n",
            "[[  1  15  10  -2   0  66  30  -8]\n",
            " [ -4   0 -52   9   1  46  -6  31]]\n",
            "\n",
            "[[  1  15  10  -2]\n",
            " [ -4   0 -52   9]\n",
            " [  0  66  30  -8]\n",
            " [  1  46  -6  31]]\n"
          ]
        }
      ]
    },
    {
      "cell_type": "code",
      "source": [
        "#split function\n",
        "x = np.array([1,6,0,4,5,9])\n",
        "print(x)\n",
        "print()\n",
        "ar = np.array_split(x,3)\n",
        "print()\n",
        "print(ar)\n",
        "print(type(ar))\n",
        "print(ar[0])\n"
      ],
      "metadata": {
        "colab": {
          "base_uri": "https://localhost:8080/"
        },
        "id": "fRdcZb1kTKV8",
        "outputId": "165dbcbb-bcbd-4196-855c-4a6ed144f17c"
      },
      "execution_count": null,
      "outputs": [
        {
          "output_type": "stream",
          "name": "stdout",
          "text": [
            "[1 6 0 4 5 9]\n",
            "\n",
            "\n",
            "[array([1, 6]), array([0, 4]), array([5, 9])]\n",
            "<class 'list'>\n",
            "[1 6]\n"
          ]
        }
      ]
    },
    {
      "cell_type": "code",
      "source": [
        "p = np.array([[1,3,5,7,9],[0,2,4,6,8]])\n",
        "print(p)\n",
        "print()\n",
        "q = np.array_split(p,5)\n",
        "print(q)\n",
        "print(type(q))\n",
        "print(q[0])"
      ],
      "metadata": {
        "colab": {
          "base_uri": "https://localhost:8080/"
        },
        "id": "Gz2KnhhaT4mw",
        "outputId": "322a239b-1018-44c0-c54f-a5f15289a7fa"
      },
      "execution_count": null,
      "outputs": [
        {
          "output_type": "stream",
          "name": "stdout",
          "text": [
            "[[1 3 5 7 9]\n",
            " [0 2 4 6 8]]\n",
            "\n",
            "[array([[1, 3, 5, 7, 9]]), array([[0, 2, 4, 6, 8]]), array([], shape=(0, 5), dtype=int64), array([], shape=(0, 5), dtype=int64), array([], shape=(0, 5), dtype=int64)]\n",
            "<class 'list'>\n",
            "[[1 3 5 7 9]]\n"
          ]
        }
      ]
    }
  ]
}
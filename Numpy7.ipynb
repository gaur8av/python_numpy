{
  "nbformat": 4,
  "nbformat_minor": 0,
  "metadata": {
    "colab": {
      "provenance": [],
      "authorship_tag": "ABX9TyOuakoXhTbv8QkyuyNnE7HW",
      "include_colab_link": true
    },
    "kernelspec": {
      "name": "python3",
      "display_name": "Python 3"
    },
    "language_info": {
      "name": "python"
    }
  },
  "cells": [
    {
      "cell_type": "markdown",
      "metadata": {
        "id": "view-in-github",
        "colab_type": "text"
      },
      "source": [
        "<a href=\"https://colab.research.google.com/github/gaur8av/python_numpy/blob/main/Numpy7.ipynb\" target=\"_parent\"><img src=\"https://colab.research.google.com/assets/colab-badge.svg\" alt=\"Open In Colab\"/></a>"
      ]
    },
    {
      "cell_type": "markdown",
      "source": [
        "Indexing in numpy"
      ],
      "metadata": {
        "id": "Xics52asW8NU"
      }
    },
    {
      "cell_type": "code",
      "source": [
        "import numpy as np\n",
        "var=np.array([1,5,6,7,3])\n",
        "print(var[3])\n",
        "var1=np.array([[1,2,4],[6,7,8]])\n",
        "print(var1)\n",
        "print()\n",
        "print(var1[0,2])\n",
        "print()\n",
        "var2=np.array([[[1,2,4],[6,7,8]],[[2,9,0],[6,1,8]]])\n",
        "print(var2)\n",
        "print()\n",
        "print(var2[1,1,2])"
      ],
      "metadata": {
        "id": "8Wo1CobCW_nH"
      },
      "execution_count": null,
      "outputs": []
    },
    {
      "cell_type": "markdown",
      "source": [
        "Slicing in numpy suppose\n",
        "x[start:stop:step]=it gives or return list\n",
        "\n"
      ],
      "metadata": {
        "id": "1JkyNT57YzUP"
      }
    },
    {
      "cell_type": "code",
      "source": [
        "var3=np.array([1,5,6,7,3,8,9,0])\n",
        "print(var3[1:5])\n",
        "print()\n",
        "print(var3[0:])\n",
        "print()\n",
        "print(var3[::-1])"
      ],
      "metadata": {
        "colab": {
          "base_uri": "https://localhost:8080/"
        },
        "id": "f9oWpv5GY32f",
        "outputId": "db18d8ee-8caf-443c-a168-3a2bfff4b20a"
      },
      "execution_count": 15,
      "outputs": [
        {
          "output_type": "stream",
          "name": "stdout",
          "text": [
            "[5 6 7 3]\n",
            "\n",
            "[1 5 6 7 3 8 9 0]\n",
            "\n",
            "[0 9 8 3 7 6 5 1]\n"
          ]
        }
      ]
    },
    {
      "cell_type": "markdown",
      "source": [
        "slicing in 2d array and 3d array\n"
      ],
      "metadata": {
        "id": "9Gu02EqZa4bp"
      }
    },
    {
      "cell_type": "code",
      "source": [
        "var4=np.array([[1,3,5,7],[5,6,9,3]])\n",
        "print(var4[0,0:])\n",
        "print()\n",
        "print(var4[1,2:5])\n",
        "print()\n",
        "print(var4[1,3:5])"
      ],
      "metadata": {
        "colab": {
          "base_uri": "https://localhost:8080/"
        },
        "id": "u4fltYTPa8LQ",
        "outputId": "50cab7c4-11e4-4d30-ec20-58582f2bae4f"
      },
      "execution_count": 19,
      "outputs": [
        {
          "output_type": "stream",
          "name": "stdout",
          "text": [
            "[1 3 5 7]\n",
            "\n",
            "[9 3]\n",
            "\n",
            "[3]\n"
          ]
        }
      ]
    },
    {
      "cell_type": "code",
      "source": [
        "x=np.array([[[-1,5,2,3],[4,-7,6,0]],[[5,8,1,1],[0,6,3,2]]])\n",
        "print(x)\n",
        "print()\n",
        "print(x[0,0,0:])\n",
        "print()\n",
        "print(x[1,0,2:5])\n",
        "print()\n",
        "print(x[0,1,3:5])\n"
      ],
      "metadata": {
        "colab": {
          "base_uri": "https://localhost:8080/"
        },
        "id": "m3waeRPIbok3",
        "outputId": "7c3403f4-106d-48e2-e2ba-587d1137b80f"
      },
      "execution_count": 21,
      "outputs": [
        {
          "output_type": "stream",
          "name": "stdout",
          "text": [
            "[[[-1  5  2  3]\n",
            "  [ 4 -7  6  0]]\n",
            "\n",
            " [[ 5  8  1  1]\n",
            "  [ 0  6  3  2]]]\n",
            "\n",
            "[-1  5  2  3]\n",
            "\n",
            "[1 1]\n",
            "\n",
            "[0]\n"
          ]
        }
      ]
    }
  ]
}
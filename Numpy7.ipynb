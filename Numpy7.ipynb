{
  "nbformat": 4,
  "nbformat_minor": 0,
  "metadata": {
    "colab": {
      "provenance": [],
      "authorship_tag": "ABX9TyNVAClijWRalKQsKD2IYplP",
      "include_colab_link": true
    },
    "kernelspec": {
      "name": "python3",
      "display_name": "Python 3"
    },
    "language_info": {
      "name": "python"
    }
  },
  "cells": [
    {
      "cell_type": "markdown",
      "metadata": {
        "id": "view-in-github",
        "colab_type": "text"
      },
      "source": [
        "<a href=\"https://colab.research.google.com/github/gaur8av/python_numpy/blob/main/Numpy7.ipynb\" target=\"_parent\"><img src=\"https://colab.research.google.com/assets/colab-badge.svg\" alt=\"Open In Colab\"/></a>"
      ]
    },
    {
      "cell_type": "markdown",
      "source": [
        "Broadcasting in numpy\n"
      ],
      "metadata": {
        "id": "ogT9La3f_yQ6"
      }
    },
    {
      "cell_type": "code",
      "source": [
        "import numpy as np\n",
        "x=np.array([1,2,3,4])\n",
        "y=np.array([1,2,3])\n",
        "#print(np.add(x,y))   #gives broadcasting error\n"
      ],
      "metadata": {
        "id": "oyoo-Zoz_73C"
      },
      "execution_count": null,
      "outputs": []
    },
    {
      "cell_type": "code",
      "source": [
        "y=np.array([1,2,3])\n",
        "print(y.shape)\n",
        "print()\n",
        "z=np.array([[1],[2],[3]])\n",
        "print(z)\n",
        "print()\n",
        "print(z.shape)\n",
        "print()\n",
        "print(y+z)\n",
        "\n"
      ],
      "metadata": {
        "id": "95X_hLDYB6te"
      },
      "execution_count": null,
      "outputs": []
    },
    {
      "cell_type": "code",
      "source": [
        "var1=np.array([[3],[8]])\n",
        "print(var1)\n",
        "print(var1.shape)\n",
        "print()\n",
        "var2=np.array([[1,2,3],[4,5,6]])\n",
        "print(var2)\n",
        "print(var1.shape)\n",
        "print()\n",
        "print(var1+var2)"
      ],
      "metadata": {
        "colab": {
          "base_uri": "https://localhost:8080/"
        },
        "id": "Ce8q7f11VXrJ",
        "outputId": "d21c7a6f-8e42-4991-9664-78a72b42bb8e"
      },
      "execution_count": 9,
      "outputs": [
        {
          "output_type": "stream",
          "name": "stdout",
          "text": [
            "[[3]\n",
            " [8]]\n",
            "(2, 1)\n",
            "\n",
            "[[1 2 3]\n",
            " [4 5 6]]\n",
            "(2, 1)\n",
            "\n",
            "[[ 4  5  6]\n",
            " [12 13 14]]\n"
          ]
        }
      ]
    }
  ]
}
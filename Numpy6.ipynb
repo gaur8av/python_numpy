{
  "nbformat": 4,
  "nbformat_minor": 0,
  "metadata": {
    "colab": {
      "provenance": [],
      "authorship_tag": "ABX9TyM+neoQbgLWxwQyKDUeysIp",
      "include_colab_link": true
    },
    "kernelspec": {
      "name": "python3",
      "display_name": "Python 3"
    },
    "language_info": {
      "name": "python"
    }
  },
  "cells": [
    {
      "cell_type": "markdown",
      "metadata": {
        "id": "view-in-github",
        "colab_type": "text"
      },
      "source": [
        "<a href=\"https://colab.research.google.com/github/gaur8av/python_numpy/blob/main/Numpy6.ipynb\" target=\"_parent\"><img src=\"https://colab.research.google.com/assets/colab-badge.svg\" alt=\"Open In Colab\"/></a>"
      ]
    },
    {
      "cell_type": "markdown",
      "source": [
        "Shape and Reshape in Numpy"
      ],
      "metadata": {
        "id": "Pd5nLts9KMbq"
      }
    },
    {
      "cell_type": "code",
      "source": [
        "import numpy as np\n",
        "x=np.array([[1,2],[4,5]])\n",
        "print(x)\n",
        "print()\n",
        "print(x.shape)\n",
        "print()\n",
        "y=np.array([1,2,3,4],ndmin=4)\n",
        "print(y)\n",
        "print(y.shape)"
      ],
      "metadata": {
        "id": "H8N2Z9YW1hQ4"
      },
      "execution_count": null,
      "outputs": []
    },
    {
      "cell_type": "markdown",
      "source": [
        "Reshape using reshape(a,b) function a=no of row , b=no of column"
      ],
      "metadata": {
        "id": "KZt4U9314pIT"
      }
    },
    {
      "cell_type": "code",
      "source": [
        "x=np.array([1,2,3,4,5,65,7,8,9])\n",
        "print(x)\n",
        "print()\n",
        "var=x.reshape(3,3)\n",
        "print(var,var.shape, sep=\" \")"
      ],
      "metadata": {
        "id": "ZsdXKEkL5EvA",
        "outputId": "bc5cc757-534f-4778-cc8c-e0bdf6da5a98",
        "colab": {
          "base_uri": "https://localhost:8080/"
        }
      },
      "execution_count": 24,
      "outputs": [
        {
          "output_type": "stream",
          "name": "stdout",
          "text": [
            "[ 1  2  3  4  5 65  7  8  9]\n",
            "\n",
            "[[ 1  2  3]\n",
            " [ 4  5 65]\n",
            " [ 7  8  9]] (3, 3)\n"
          ]
        }
      ]
    },
    {
      "cell_type": "code",
      "source": [
        "var2=np.array([1,2,3,4,5,65,7,8,9,10,11,12])\n",
        "print(x)\n",
        "print()\n",
        "var3=var2.reshape(2,2,3)\n",
        "print()\n",
        "print(var3.shape)\n",
        "print()\n",
        "print(var3,var3.ndim,sep=\"  \")\n",
        "one=var3.reshape(-1)                   #convert into 1-D array\n",
        "print()\n",
        "print(one)"
      ],
      "metadata": {
        "id": "GUJjPiSB7MCG",
        "outputId": "65512fee-0815-467b-f7cf-b2b00c6d53bc",
        "colab": {
          "base_uri": "https://localhost:8080/"
        }
      },
      "execution_count": 30,
      "outputs": [
        {
          "output_type": "stream",
          "name": "stdout",
          "text": [
            "[ 1  2  3  4  5 65  7  8  9]\n",
            "\n",
            "\n",
            "(2, 2, 3)\n",
            "\n",
            "[[[ 1  2  3]\n",
            "  [ 4  5 65]]\n",
            "\n",
            " [[ 7  8  9]\n",
            "  [10 11 12]]]  3\n",
            "\n",
            "[ 1  2  3  4  5 65  7  8  9 10 11 12]\n"
          ]
        }
      ]
    }
  ]
}
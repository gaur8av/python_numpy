{
  "nbformat": 4,
  "nbformat_minor": 0,
  "metadata": {
    "colab": {
      "provenance": [],
      "authorship_tag": "ABX9TyPsP/ORqAcQsvgSdym6JAOU",
      "include_colab_link": true
    },
    "kernelspec": {
      "name": "python3",
      "display_name": "Python 3"
    },
    "language_info": {
      "name": "python"
    }
  },
  "cells": [
    {
      "cell_type": "markdown",
      "metadata": {
        "id": "view-in-github",
        "colab_type": "text"
      },
      "source": [
        "<a href=\"https://colab.research.google.com/github/gaur8av/python_numpy/blob/main/Numpy4.ipynb\" target=\"_parent\"><img src=\"https://colab.research.google.com/assets/colab-badge.svg\" alt=\"Open In Colab\"/></a>"
      ]
    },
    {
      "cell_type": "markdown",
      "source": [
        "Arithmetic operations in Numpy Arrays"
      ],
      "metadata": {
        "id": "u6RLJTyekHwr"
      }
    },
    {
      "cell_type": "code",
      "source": [
        "import numpy as np\n",
        "x=np.array([1,2,3,4])\n",
        "print(x)\n",
        "y=x+3\n",
        "print()\n",
        "print(y)"
      ],
      "metadata": {
        "colab": {
          "base_uri": "https://localhost:8080/"
        },
        "id": "LtzxV0Ufjyd4",
        "outputId": "e34eb285-b284-4f01-bf10-d3d86d526d1f"
      },
      "execution_count": 2,
      "outputs": [
        {
          "output_type": "stream",
          "name": "stdout",
          "text": [
            "[1 2 3 4]\n",
            "\n",
            "[4 5 6 7]\n"
          ]
        }
      ]
    },
    {
      "cell_type": "code",
      "source": [
        "\n",
        "import numpy as np\n",
        "x1=np.array([1,32,23,14])\n",
        "y2=x1*5\n",
        "#y3=x1/5\n",
        "y4=x1%5\n",
        "print(np.divide(x1,5))\n",
        "print()\n",
        "print(y2,sep=\" \")\n",
        "print()\n",
        "var1=np.array([1,3,-5,-7])   #divide(var1,var2)=var1/var2\n",
        "var2=np.array([1,-2,4,-6])\n",
        "\n",
        "print(np.add(var1,var2),np.divide(var1,var2),np.subtract(var1,var2),np.multiply(var1,var2),np.mod(var1,var2),sep=\" \")\n",
        "\n",
        "\n",
        "\n",
        "\n"
      ],
      "metadata": {
        "colab": {
          "base_uri": "https://localhost:8080/"
        },
        "id": "6hKMEhvHk8_p",
        "outputId": "98f0d630-5df8-47e9-ae8d-9f4b27c78237"
      },
      "execution_count": 22,
      "outputs": [
        {
          "output_type": "stream",
          "name": "stdout",
          "text": [
            "[0.2 6.4 4.6 2.8]\n",
            "\n",
            "[  5 160 115  70]\n",
            "\n",
            "[  2   1  -1 -13] [ 1.         -1.5        -1.25        1.16666667] [ 0  5 -9 -1] [  1  -6 -20  42] [ 0 -1  3 -1]\n"
          ]
        }
      ]
    },
    {
      "cell_type": "code",
      "source": [
        "var_1=np.array([[1,2,-4,7],[3,2,0,-8],[0,1,3,5]])\n",
        "var_2=np.array([[1,-2,-4,0],[9,7,0,-8],[0,1,3,8]])\n",
        "print(np.add(var_1,var_2))\n",
        "print()\n",
        "print(np.subtract(var_1,var_2))\n",
        "print()\n",
        "print(np.multiply(var_1,var_2))\n",
        "print()\n",
        "print(np.divide(var_1,var_2))\n",
        "print()\n",
        "print(np.mod(var_1,var_2))\n",
        "print()\n",
        "print(np.reciprocal(var_1))\n",
        "\n"
      ],
      "metadata": {
        "colab": {
          "base_uri": "https://localhost:8080/"
        },
        "id": "ofQsB3bn5R9T",
        "outputId": "4c76c14c-8099-48b6-d4be-83b15546cf73"
      },
      "execution_count": 24,
      "outputs": [
        {
          "output_type": "stream",
          "name": "stdout",
          "text": [
            "[[  2   0  -8   7]\n",
            " [ 12   9   0 -16]\n",
            " [  0   2   6  13]]\n",
            "\n",
            "[[ 0  4  0  7]\n",
            " [-6 -5  0  0]\n",
            " [ 0  0  0 -3]]\n",
            "\n",
            "[[ 1 -4 16  0]\n",
            " [27 14  0 64]\n",
            " [ 0  1  9 40]]\n",
            "\n",
            "[[ 1.         -1.          1.                 inf]\n",
            " [ 0.33333333  0.28571429         nan  1.        ]\n",
            " [        nan  1.          1.          0.625     ]]\n",
            "\n",
            "[[0 0 0 0]\n",
            " [3 2 0 0]\n",
            " [0 0 0 5]]\n",
            "\n",
            "[[                   1                    0                    0\n",
            "                     0]\n",
            " [                   0                    0 -9223372036854775808\n",
            "                     0]\n",
            " [-9223372036854775808                    1                    0\n",
            "                     0]]\n"
          ]
        },
        {
          "output_type": "stream",
          "name": "stderr",
          "text": [
            "<ipython-input-24-e758ad155079>:9: RuntimeWarning: divide by zero encountered in divide\n",
            "  print(np.divide(var_1,var_2))\n",
            "<ipython-input-24-e758ad155079>:9: RuntimeWarning: invalid value encountered in divide\n",
            "  print(np.divide(var_1,var_2))\n",
            "<ipython-input-24-e758ad155079>:11: RuntimeWarning: divide by zero encountered in remainder\n",
            "  print(np.mod(var_1,var_2))\n",
            "<ipython-input-24-e758ad155079>:13: RuntimeWarning: divide by zero encountered in reciprocal\n",
            "  print(np.reciprocal(var_1))\n",
            "<ipython-input-24-e758ad155079>:13: RuntimeWarning: invalid value encountered in reciprocal\n",
            "  print(np.reciprocal(var_1))\n"
          ]
        }
      ]
    }
  ]
}
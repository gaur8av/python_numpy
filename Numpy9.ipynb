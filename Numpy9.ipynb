{
  "nbformat": 4,
  "nbformat_minor": 0,
  "metadata": {
    "colab": {
      "provenance": [],
      "authorship_tag": "ABX9TyPlpLPYWsOjAuJQaA8Pf9jk",
      "include_colab_link": true
    },
    "kernelspec": {
      "name": "python3",
      "display_name": "Python 3"
    },
    "language_info": {
      "name": "python"
    }
  },
  "cells": [
    {
      "cell_type": "markdown",
      "metadata": {
        "id": "view-in-github",
        "colab_type": "text"
      },
      "source": [
        "<a href=\"https://colab.research.google.com/github/gaur8av/python_numpy/blob/main/Numpy9.ipynb\" target=\"_parent\"><img src=\"https://colab.research.google.com/assets/colab-badge.svg\" alt=\"Open In Colab\"/></a>"
      ]
    },
    {
      "cell_type": "markdown",
      "source": [
        "#Copy and View"
      ],
      "metadata": {
        "id": "3La3SjyuKtWj"
      }
    },
    {
      "cell_type": "code",
      "source": [
        "import numpy as np\n",
        "var = np.array([1,2,3,4]) # the changes made in the copy data does not reflect in the original array\n",
        "co = var.copy()\n",
        "print(\"var is: \",var)\n",
        "print()                  # the copy owns the data\n",
        "print(\"copy is: \",co)\n",
        "print()\n",
        "var[2]=50\n",
        "print(\"var is: \",co)\n",
        "print()\n",
        "print(\"co is: \",co)\n",
        ""
      ],
      "metadata": {
        "colab": {
          "base_uri": "https://localhost:8080/"
        },
        "id": "KqB7Q5EMK0qF",
        "outputId": "f84e9fc1-0725-4e50-b078-58b4400b97b0"
      },
      "execution_count": 7,
      "outputs": [
        {
          "output_type": "stream",
          "name": "stdout",
          "text": [
            "\n",
            "\n",
            "var is:  [1 2 3 4]\n",
            "\n",
            "co is:  [1 2 3 4]\n"
          ]
        }
      ]
    },
    {
      "cell_type": "code",
      "source": [
        "from numpy.lib import vsplit\n",
        "var_1=np.array([9,6,3,5,8])\n",
        "vi = var.view()\n",
        "                        # any changes made to the view will affect the original array\n",
        "print(\"var is :\",var)\n",
        "print()                 # the view does not own the data\n",
        "print(\"view is: \",vi)\n",
        "var[3]=50\n",
        "print()\n",
        "print(\"var is :\",var_1)   # A view of the original array\n"
      ],
      "metadata": {
        "colab": {
          "base_uri": "https://localhost:8080/"
        },
        "id": "fuPp9YXPLayG",
        "outputId": "1363f59d-ed13-4245-a5ed-57d5984fc8b7"
      },
      "execution_count": 10,
      "outputs": [
        {
          "output_type": "stream",
          "name": "stdout",
          "text": [
            "var is : [ 1  2 50 50]\n",
            "\n",
            "view is:  [ 1  2 50 50]\n",
            "\n",
            "var is : [9 6 3 5 8]\n"
          ]
        }
      ]
    }
  ]
}
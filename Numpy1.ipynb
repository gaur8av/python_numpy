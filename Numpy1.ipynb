{
  "nbformat": 4,
  "nbformat_minor": 0,
  "metadata": {
    "colab": {
      "provenance": [],
      "authorship_tag": "ABX9TyOdoaYVm8LCtwAQcn9w7fSG",
      "include_colab_link": true
    },
    "kernelspec": {
      "name": "python3",
      "display_name": "Python 3"
    },
    "language_info": {
      "name": "python"
    }
  },
  "cells": [
    {
      "cell_type": "markdown",
      "metadata": {
        "id": "view-in-github",
        "colab_type": "text"
      },
      "source": [
        "<a href=\"https://colab.research.google.com/github/gaur8av/python_numpy/blob/main/Numpy1.ipynb\" target=\"_parent\"><img src=\"https://colab.research.google.com/assets/colab-badge.svg\" alt=\"Open In Colab\"/></a>"
      ]
    },
    {
      "cell_type": "markdown",
      "source": [
        "## Create numpy array using numpy function"
      ],
      "metadata": {
        "id": "Q3yqTcYZLvWH"
      }
    },
    {
      "cell_type": "markdown",
      "source": [
        "zeros"
      ],
      "metadata": {
        "id": "2ctnAgPeL8Dg"
      }
    },
    {
      "cell_type": "code",
      "source": [
        "import numpy as np\n",
        "ar_zero=np.zeros(4)\n",
        "print(ar_zero)\n",
        "print()\n",
        "ar_zero1=np.zeros((3,4))\n",
        "print(ar_zero1)\n",
        "\n"
      ],
      "metadata": {
        "id": "VCa6m-CAL4iA"
      },
      "execution_count": null,
      "outputs": []
    },
    {
      "cell_type": "markdown",
      "source": [
        "array element with '1's"
      ],
      "metadata": {
        "id": "7GQTvHWJNDPu"
      }
    },
    {
      "cell_type": "code",
      "source": [
        "import numpy as np\n",
        "ar_one=np.ones(5)\n",
        "print(ar_one)\n",
        "print(type(ar_one))\n",
        "print()\n",
        "ar_one1=np.ones((4,5,6))\n",
        "print(ar_one1)"
      ],
      "metadata": {
        "id": "K4UJbUWBNLFR"
      },
      "execution_count": null,
      "outputs": []
    },
    {
      "cell_type": "markdown",
      "source": [
        "Empty array"
      ],
      "metadata": {
        "id": "vf5ttylIOXfr"
      }
    },
    {
      "cell_type": "code",
      "source": [
        "ar_emp=np.empty(4)\n",
        "print(ar_emp)"
      ],
      "metadata": {
        "colab": {
          "base_uri": "https://localhost:8080/"
        },
        "id": "94n3sxfhObjw",
        "outputId": "78902ed5-f2c3-4369-c482-785faa5d02a1"
      },
      "execution_count": 9,
      "outputs": [
        {
          "output_type": "stream",
          "name": "stdout",
          "text": [
            "[0. 0. 0. 0.]\n"
          ]
        }
      ]
    },
    {
      "cell_type": "markdown",
      "source": [
        "Range array using arange function"
      ],
      "metadata": {
        "id": "6s5YPV_DOvVl"
      }
    },
    {
      "cell_type": "code",
      "source": [
        "ar_ran=np.arange(2)\n",
        "print(ar_ran)"
      ],
      "metadata": {
        "id": "adGRTKBdO1ST"
      },
      "execution_count": null,
      "outputs": []
    },
    {
      "cell_type": "markdown",
      "source": [
        "Diagonal"
      ],
      "metadata": {
        "id": "03n1qHYgPTJe"
      }
    },
    {
      "cell_type": "code",
      "source": [
        "ar_dia=np.eye(3,5)\n",
        "print(ar_dia)"
      ],
      "metadata": {
        "colab": {
          "base_uri": "https://localhost:8080/"
        },
        "id": "BmHZrWcCPVHN",
        "outputId": "9a186b71-8913-4563-ce2b-d4a334a5ff63"
      },
      "execution_count": 16,
      "outputs": [
        {
          "output_type": "stream",
          "name": "stdout",
          "text": [
            "[[1. 0. 0. 0. 0.]\n",
            " [0. 1. 0. 0. 0.]\n",
            " [0. 0. 1. 0. 0.]]\n"
          ]
        }
      ]
    },
    {
      "cell_type": "markdown",
      "source": [
        "Array element with special interval using linespace function"
      ],
      "metadata": {
        "id": "YVQxmokVPk5s"
      }
    },
    {
      "cell_type": "code",
      "source": [
        "ar_lin=np.linspace(1,10,num=5)\n",
        "print(ar_lin)"
      ],
      "metadata": {
        "colab": {
          "base_uri": "https://localhost:8080/"
        },
        "id": "IeVX9ZrVPszK",
        "outputId": "b4653d12-abd0-4343-9b4b-4ef3794e9f02"
      },
      "execution_count": 19,
      "outputs": [
        {
          "output_type": "stream",
          "name": "stdout",
          "text": [
            "[ 1.    3.25  5.5   7.75 10.  ]\n"
          ]
        }
      ]
    }
  ]
}
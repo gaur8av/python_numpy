{
  "nbformat": 4,
  "nbformat_minor": 0,
  "metadata": {
    "colab": {
      "provenance": [],
      "authorship_tag": "ABX9TyOlJpCiOr8LduX/W3QlVCjB",
      "include_colab_link": true
    },
    "kernelspec": {
      "name": "python3",
      "display_name": "Python 3"
    },
    "language_info": {
      "name": "python"
    }
  },
  "cells": [
    {
      "cell_type": "markdown",
      "metadata": {
        "id": "view-in-github",
        "colab_type": "text"
      },
      "source": [
        "<a href=\"https://colab.research.google.com/github/gaur8av/python_numpy/blob/main/Numpy3.ipynb\" target=\"_parent\"><img src=\"https://colab.research.google.com/assets/colab-badge.svg\" alt=\"Open In Colab\"/></a>"
      ]
    },
    {
      "cell_type": "markdown",
      "source": [
        "Data type in numpy array"
      ],
      "metadata": {
        "id": "OLjRTDumcmnf"
      }
    },
    {
      "cell_type": "code",
      "source": [
        "import numpy as np\n",
        "var=np.array([1,2,3,4])\n",
        "print(\"data type: \",var.dtype)"
      ],
      "metadata": {
        "colab": {
          "base_uri": "https://localhost:8080/"
        },
        "id": "6Bexei-bct2S",
        "outputId": "a2ccc0c7-574e-4aad-8fa1-8e6219f8561e"
      },
      "execution_count": 2,
      "outputs": [
        {
          "output_type": "stream",
          "name": "stdout",
          "text": [
            "data type:  int64\n"
          ]
        }
      ]
    },
    {
      "cell_type": "code",
      "source": [
        "var=np.array([1.0,2.5,3.65,4.2,5.09])\n",
        "print(\"data type: \",var.dtype)"
      ],
      "metadata": {
        "colab": {
          "base_uri": "https://localhost:8080/"
        },
        "id": "J1PRI75_dHmo",
        "outputId": "376ef6e6-a558-447f-d3f2-dd077712f8ee"
      },
      "execution_count": 3,
      "outputs": [
        {
          "output_type": "stream",
          "name": "stdout",
          "text": [
            "data type:  float64\n"
          ]
        }
      ]
    },
    {
      "cell_type": "code",
      "source": [
        "var=np.array(['G','a','u','r','a','v','1','@','54'])\n",
        "print(\"data type: \",var.dtype)"
      ],
      "metadata": {
        "colab": {
          "base_uri": "https://localhost:8080/"
        },
        "id": "IPd8FowEdREQ",
        "outputId": "f5e3d11c-208e-4afe-805e-85af995db5f0"
      },
      "execution_count": 9,
      "outputs": [
        {
          "output_type": "stream",
          "name": "stdout",
          "text": [
            "data type:  <U2\n"
          ]
        }
      ]
    },
    {
      "cell_type": "markdown",
      "source": [
        "convert one data type to another using data type as a function"
      ],
      "metadata": {
        "id": "69DnLvUkd1-C"
      }
    },
    {
      "cell_type": "code",
      "source": [
        "x=np.array([1,2,3,4])\n",
        "print(\"data type :\",x.dtype)\n",
        "print()\n",
        "y = np.array([1,2,3,4],dtype=np.float128)\n",
        "print(\"data type: \",y.dtype)\n",
        "print(y)\n",
        "print()\n",
        "x1=np.array([1,2,3,4],dtype=\"f\")\n",
        "print(\"data type :\",x1.dtype)\n",
        "print(x1)"
      ],
      "metadata": {
        "colab": {
          "base_uri": "https://localhost:8080/"
        },
        "id": "ERsHJt0ed6pe",
        "outputId": "bd3634a6-dea6-42e2-c1de-e5375500492f"
      },
      "execution_count": 14,
      "outputs": [
        {
          "output_type": "stream",
          "name": "stdout",
          "text": [
            "data type : int64\n",
            "\n",
            "data type:  float128\n",
            "[1. 2. 3. 4.]\n",
            "\n",
            "data type : float32\n",
            "[1. 2. 3. 4.]\n"
          ]
        }
      ]
    },
    {
      "cell_type": "code",
      "source": [
        "x2=np.array([1,2,3,4])\n",
        "print(\"data type :\",x.dtype)\n",
        "print()\n",
        "new=np.float64(x2)   #covert into float\n",
        "print(\"data type: \",new.dtype)\n",
        "print(new)\n",
        "print()\n",
        "x3=np.array([1,-2,3,0])\n",
        "print(\"data type :\",x3.dtype)\n",
        "print()\n",
        "new1=np.bool8(x3)\n",
        "print(\"data type: \",new1.dtype)\n",
        "print(x3)\n"
      ],
      "metadata": {
        "id": "CqUFPFbOgTzE"
      },
      "execution_count": null,
      "outputs": []
    },
    {
      "cell_type": "markdown",
      "source": [
        "convert direct using astype function"
      ],
      "metadata": {
        "id": "KAUTMxJJhyar"
      }
    },
    {
      "cell_type": "code",
      "source": [
        "x=np.array([1,2,3,4])\n",
        "new_1=x.astype(complex)\n",
        "print(x)\n",
        "\n",
        "print(new_1)"
      ],
      "metadata": {
        "colab": {
          "base_uri": "https://localhost:8080/"
        },
        "id": "j0KXB5QWh2DN",
        "outputId": "66b13664-eadc-4933-9716-8e2a3fd565b7"
      },
      "execution_count": 19,
      "outputs": [
        {
          "output_type": "stream",
          "name": "stdout",
          "text": [
            "[1 2 3 4]\n",
            "[1.+0.j 2.+0.j 3.+0.j 4.+0.j]\n"
          ]
        }
      ]
    }
  ]
}
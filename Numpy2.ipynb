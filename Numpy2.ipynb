{
  "nbformat": 4,
  "nbformat_minor": 0,
  "metadata": {
    "colab": {
      "provenance": [],
      "authorship_tag": "ABX9TyMphvRfQYz7voO8OD8DZ/Ba",
      "include_colab_link": true
    },
    "kernelspec": {
      "name": "python3",
      "display_name": "Python 3"
    },
    "language_info": {
      "name": "python"
    }
  },
  "cells": [
    {
      "cell_type": "markdown",
      "metadata": {
        "id": "view-in-github",
        "colab_type": "text"
      },
      "source": [
        "<a href=\"https://colab.research.google.com/github/gaur8av/python_numpy/blob/main/Numpy2.ipynb\" target=\"_parent\"><img src=\"https://colab.research.google.com/assets/colab-badge.svg\" alt=\"Open In Colab\"/></a>"
      ]
    },
    {
      "cell_type": "markdown",
      "source": [
        "## create numpy array with random number"
      ],
      "metadata": {
        "id": "AQ7TbCnjSX5Z"
      }
    },
    {
      "cell_type": "markdown",
      "source": [
        "rand() function"
      ],
      "metadata": {
        "id": "qyslmKS3Skdh"
      }
    },
    {
      "cell_type": "code",
      "source": [
        "import numpy as np\n",
        "var=np.random.rand(5)    #1-D array\n",
        "print(var)\n",
        "print()\n",
        "var1=np.random.rand(3,4)  #2-D array\n",
        "print(var1)\n"
      ],
      "metadata": {
        "id": "yfrVXAclSoJc"
      },
      "execution_count": null,
      "outputs": []
    },
    {
      "cell_type": "markdown",
      "source": [
        "randn() function {close to zero with +ve or -ve number}"
      ],
      "metadata": {
        "id": "fPd5v4yRTgBP"
      }
    },
    {
      "cell_type": "code",
      "source": [
        "var1=np.random.randn(5)\n",
        "print(var1)\n",
        "print()\n",
        "var2=np.random.randn(3,4)\n",
        "print(var2)\n"
      ],
      "metadata": {
        "id": "a7H3BhWjTurI"
      },
      "execution_count": null,
      "outputs": []
    },
    {
      "cell_type": "markdown",
      "source": [
        "ranf() function {gives number [0,1) float value}"
      ],
      "metadata": {
        "id": "7Al_imSZULFj"
      }
    },
    {
      "cell_type": "code",
      "source": [
        "var3=np.random.ranf(5)\n",
        "print(var3)\n",
        "print()\n",
        "var4=np.random.randn(3,4)\n",
        "print(var4)\n"
      ],
      "metadata": {
        "id": "p_Xeu-cpUOIK"
      },
      "execution_count": null,
      "outputs": []
    },
    {
      "cell_type": "markdown",
      "source": [
        "randit(min.,max.,totalNo) function { gives elemebts between two number}"
      ],
      "metadata": {
        "id": "gmfuCTe4U0Sr"
      }
    },
    {
      "cell_type": "code",
      "source": [
        "var5=np.random.randint(3,10,8)\n",
        "print(var5)\n",
        "print()\n",
        "var6=np.random.randint(3,50,13)\n",
        "print(var6)\n"
      ],
      "metadata": {
        "colab": {
          "base_uri": "https://localhost:8080/"
        },
        "id": "8TjSPgr7U_tu",
        "outputId": "66cb8f4c-36bb-434c-8873-858afa5bc221"
      },
      "execution_count": 16,
      "outputs": [
        {
          "output_type": "stream",
          "name": "stdout",
          "text": [
            "[3 9 7 4 9 3 7 8]\n",
            "\n",
            "[35 35 19 11 46 24 23 43 49 18 38  7  3]\n"
          ]
        }
      ]
    }
  ]
}
{
  "nbformat": 4,
  "nbformat_minor": 0,
  "metadata": {
    "colab": {
      "provenance": [],
      "authorship_tag": "ABX9TyNorRpZ5FZiETNO29zhdOUS",
      "include_colab_link": true
    },
    "kernelspec": {
      "name": "python3",
      "display_name": "Python 3"
    },
    "language_info": {
      "name": "python"
    }
  },
  "cells": [
    {
      "cell_type": "markdown",
      "metadata": {
        "id": "view-in-github",
        "colab_type": "text"
      },
      "source": [
        "<a href=\"https://colab.research.google.com/github/gaur8av/python_numpy/blob/main/Numpy8.ipynb\" target=\"_parent\"><img src=\"https://colab.research.google.com/assets/colab-badge.svg\" alt=\"Open In Colab\"/></a>"
      ]
    },
    {
      "cell_type": "markdown",
      "source": [
        "Iteration in numpy array"
      ],
      "metadata": {
        "id": "zlcMVr1vc71h"
      }
    },
    {
      "cell_type": "code",
      "source": [
        "import numpy as np\n",
        "x=np.array([1,2,8,5,-2,-3,0])\n",
        "print(x)\n",
        "print()\n",
        "for i in x:\n",
        "  print(i,end=\" \")"
      ],
      "metadata": {
        "colab": {
          "base_uri": "https://localhost:8080/"
        },
        "id": "kp7ZC6twdA5g",
        "outputId": "46681852-1643-46c4-d5d5-d2248db2d9fe"
      },
      "execution_count": 2,
      "outputs": [
        {
          "output_type": "stream",
          "name": "stdout",
          "text": [
            "[ 1  2  8  5 -2 -3  0]\n",
            "\n",
            "1 2 8 5 -2 -3 0 "
          ]
        }
      ]
    },
    {
      "cell_type": "code",
      "source": [
        "y=np.array([[1,2,8],[5,-2,-3]])\n",
        "print(y)\n",
        "print()\n",
        "for j in y:\n",
        "  print(j)\n",
        "\n",
        "print()\n",
        "\n",
        "for k in y:\n",
        "  for p in k:\n",
        "    print(p)\n"
      ],
      "metadata": {
        "id": "WJjxtb4ads8Q"
      },
      "execution_count": null,
      "outputs": []
    },
    {
      "cell_type": "markdown",
      "source": [
        "by using nditer() function"
      ],
      "metadata": {
        "id": "AGhkr2e4fSSg"
      }
    },
    {
      "cell_type": "code",
      "source": [
        "z=np.array([[[1,2,8],[5,-2,-3]],[[2,3,4],[10,20,0]]])\n",
        "print(z)\n",
        "print()\n",
        "for i in np.nditer(z):\n",
        "  print(i,end=\" \")\n",
        "\n",
        "print()\n",
        "for j,index in np.ndenumerate(z):\n",
        "  print(j,index)"
      ],
      "metadata": {
        "colab": {
          "base_uri": "https://localhost:8080/"
        },
        "id": "ebaQCjRMfbhX",
        "outputId": "f919be51-64df-480d-ecf8-e79893e0c271"
      },
      "execution_count": 13,
      "outputs": [
        {
          "output_type": "stream",
          "name": "stdout",
          "text": [
            "[[[ 1  2  8]\n",
            "  [ 5 -2 -3]]\n",
            "\n",
            " [[ 2  3  4]\n",
            "  [10 20  0]]]\n",
            "\n",
            "1 2 8 5 -2 -3 2 3 4 10 20 0 \n",
            "(0, 0, 0) 1\n",
            "(0, 0, 1) 2\n",
            "(0, 0, 2) 8\n",
            "(0, 1, 0) 5\n",
            "(0, 1, 1) -2\n",
            "(0, 1, 2) -3\n",
            "(1, 0, 0) 2\n",
            "(1, 0, 1) 3\n",
            "(1, 0, 2) 4\n",
            "(1, 1, 0) 10\n",
            "(1, 1, 1) 20\n",
            "(1, 1, 2) 0\n"
          ]
        }
      ]
    }
  ]
}